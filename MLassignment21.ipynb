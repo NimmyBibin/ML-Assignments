{
 "cells": [
  {
   "cell_type": "markdown",
   "id": "4ec4adc4",
   "metadata": {},
   "source": [
    "1. What is the estimated depth of a Decision Tree trained (unrestricted) on a one million instance training set?"
   ]
  },
  {
   "cell_type": "markdown",
   "id": "6afd67b6",
   "metadata": {},
   "source": [
    "The estimated depth of a Decision Tree trained on a one million instance training set depends on several factors, including the complexity of the data and the hyperparameters used in training. In general, an unrestricted Decision Tree could potentially have a depth of one million, but it is highly unlikely that such a tree would be useful for prediction. In practice, the depth of a Decision Tree is typically limited to prevent overfitting, which could cause the model to perform poorly on new data. The actual depth of a Decision Tree for a given dataset can be determined through experimentation and tuning of the hyperparameters."
   ]
  },
  {
   "cell_type": "markdown",
   "id": "d72d325c",
   "metadata": {},
   "source": [
    "2. Is the Gini impurity of a node usually lower or higher than that of its parent? Is it always lower/greater, or is it usually lower/greater?"
   ]
  },
  {
   "cell_type": "markdown",
   "id": "b12abc63",
   "metadata": {},
   "source": [
    "The Gini impurity of a node is usually lower than that of its parent. This is because the decision tree algorithm is designed to split the nodes in such a way that the resulting subsets of instances have lower impurity than the original set. The Gini impurity can decrease or remain the same after a split, but it cannot increase. Therefore, the Gini impurity is not always lower or greater; it is usually lower."
   ]
  },
  {
   "cell_type": "markdown",
   "id": "c0781d70",
   "metadata": {},
   "source": [
    "3. Explain if its a good idea to reduce max depth if a Decision Tree is overfitting the training set?"
   ]
  },
  {
   "cell_type": "markdown",
   "id": "04275a4a",
   "metadata": {},
   "source": [
    "Yes, it is a good idea to reduce the max depth if a Decision Tree is overfitting the training set. When a Decision Tree is overfitting, it means that the model is too complex and has learned the noise in the training data, which leads to poor performance on new data. By reducing the max depth, the Decision Tree will become less complex, and the model will generalize better to new data, reducing overfitting. However, it is important to note that reducing the max depth too much can lead to underfitting, where the model is too simple and cannot capture the patterns in the data. Therefore, it is essential to tune the max depth parameter to achieve the best balance between underfitting and overfitting."
   ]
  },
  {
   "cell_type": "markdown",
   "id": "55f0c55e",
   "metadata": {},
   "source": [
    "\n",
    "4. Explain if its a  good idea to try scaling the input features if a Decision Tree underfits the training set?\n"
   ]
  },
  {
   "cell_type": "markdown",
   "id": "5ecbf276",
   "metadata": {},
   "source": [
    "Scaling input features is not a solution to an underfitting problem in Decision Trees. In fact, Decision Trees are insensitive to feature scaling because it is based on the relative order of features rather than the actual values. Instead, one should consider other options to address underfitting in Decision Trees, such as increasing the depth of the tree, reducing the minimum number of samples required to split a node, or trying other tree algorithms."
   ]
  },
  {
   "cell_type": "markdown",
   "id": "2e705e92",
   "metadata": {},
   "source": [
    "5. How much time will it take to train another Decision Tree on a training set of 10 million instances if it takes an hour to train a Decision Tree on a training set with 1 million instances?"
   ]
  },
  {
   "cell_type": "markdown",
   "id": "46245416",
   "metadata": {},
   "source": [
    "It's difficult to estimate the exact time it will take to train a Decision Tree on a dataset without knowing the specifics of the dataset, the machine's processing power, and the implementation details. However, as a rough estimate, we can assume that the training time scales linearly with the number of instances. \n",
    "\n",
    "So, if it takes an hour to train a Decision Tree on a training set with 1 million instances, we can assume that it will take approximately 10 hours to train a Decision Tree on a training set with 10 million instances, assuming that the hardware and software setup are the same. However, this estimate is highly dependent on the specifics of the problem and the resources available."
   ]
  },
  {
   "cell_type": "markdown",
   "id": "17656006",
   "metadata": {},
   "source": [
    "6. Will setting presort=True speed up training if your training set has 100,000 instances?"
   ]
  },
  {
   "cell_type": "markdown",
   "id": "ebf8217b",
   "metadata": {},
   "source": [
    "Setting `presort=True` will not speed up training if your training set has 100,000 instances. In fact, it may actually slow down training. When `presort=True`, the data is sorted based on each feature's values, which can be computationally expensive for large datasets. This may lead to slower training times, particularly if the number of instances in the dataset is large. \n",
    "\n",
    "By default, `presort=False`, which means that the data is not sorted before splitting the nodes. This can result in faster training times, especially when working with large datasets. Therefore, it is generally not recommended to use `presort=True` unless the dataset is relatively small and the number of features is large."
   ]
  },
  {
   "cell_type": "markdown",
   "id": "460b1537",
   "metadata": {},
   "source": [
    "7. Follow these steps to train and fine-tune a Decision Tree for the moons dataset:\n",
    "\n",
    "a. To build a moons dataset, use make moons(n samples=10000, noise=0.4).\n",
    "\n",
    "b. Divide the dataset into a training and a test collection with train test split().\n",
    "\n",
    "c. To find good hyperparameters values for a DecisionTreeClassifier, use grid search with cross-validation (with the GridSearchCV class). Try different values for max leaf nodes.\n",
    "\n",
    "d. Use these hyperparameters to train the model on the entire training set, and then assess its output on the test set. You can achieve an accuracy of 85 to 87 percent.\n",
    "\n"
   ]
  },
  {
   "cell_type": "code",
   "execution_count": null,
   "id": "3768b070",
   "metadata": {},
   "outputs": [],
   "source": [
    "\n",
    "\n",
    "from sklearn.datasets import make_moons\n",
    "from sklearn.model_selection import train_test_split, GridSearchCV\n",
    "from sklearn.tree import DecisionTreeClassifier\n",
    "from sklearn.metrics import accuracy_score\n",
    "\n",
    "# generate moons dataset\n",
    "X, y = make_moons(n_samples=10000, noise=0.4, random_state=42)\n",
    "\n",
    "# split into train and test sets\n",
    "X_train, X_test, y_train, y_test = train_test_split(X, y, test_size=0.2, random_state=42)\n",
    "\n",
    "# define hyperparameters to search\n",
    "params = {'max_leaf_nodes': [None, 5, 10, 20, 50]}\n",
    "\n",
    "# create grid search object\n",
    "grid_search_cv = GridSearchCV(DecisionTreeClassifier(random_state=42), params, cv=3, scoring='accuracy')\n",
    "\n",
    "# perform grid search on training set\n",
    "grid_search_cv.fit(X_train, y_train)\n",
    "\n",
    "# get best hyperparameters and train model on entire training set\n",
    "best_params = grid_search_cv.best_params_\n",
    "dtc = DecisionTreeClassifier(max_leaf_nodes=best_params['max_leaf_nodes'], random_state=42)\n",
    "dtc.fit(X_train, y_train)\n",
    "\n",
    "# evaluate on test set\n",
    "y_pred = dtc.predict(X_test)\n",
    "accuracy = accuracy_score(y_test, y_pred)\n",
    "print(f\"Accuracy: {accuracy}\")\n"
   ]
  },
  {
   "cell_type": "markdown",
   "id": "5a4d21fb",
   "metadata": {},
   "source": [
    "8. Follow these steps to grow a forest:\n",
    "\n",
    "a. Using the same method as before, create 1,000 subsets of the training set, each containing 100 instances chosen at random. You can do this with Scikit-ShuffleSplitLearn's class.\n",
    "\n",
    "b. Using the best hyperparameter values found in the previous exercise, train one Decision Tree on each subset. On the test collection, evaluate these 1,000 Decision Trees. These Decision Trees would likely perform worse than the first Decision Tree, achieving only around 80% accuracy, since they were trained on smaller sets.\n",
    "\n",
    "c. Now the magic begins. Create 1,000 Decision Tree predictions for each test set case, and keep only the most common prediction (you can do this with SciPy's mode() function). Over the test collection, this method gives you majority-vote predictions.\n",
    "\n",
    "d. On the test range, evaluate these predictions: you should achieve a slightly higher accuracy than the first model (approx 0.5 to 1.5 percent higher). You've successfully learned a Random Forest classifier!\n"
   ]
  },
  {
   "cell_type": "code",
   "execution_count": null,
   "id": "ee49b68d",
   "metadata": {
    "scrolled": true
   },
   "outputs": [],
   "source": [
    "#Import the necessary libraries:\n",
    "from sklearn.datasets import make_moons\n",
    "from sklearn.model_selection import train_test_split\n",
    "from sklearn.tree import DecisionTreeClassifier\n",
    "from sklearn.model_selection import GridSearchCV\n",
    "from sklearn.ensemble import RandomForestClassifier\n",
    "from scipy.stats import mode\n",
    "from sklearn.model_selection import ShuffleSplit\n",
    "#Create the moons dataset with make_moons() and split it into training and test sets with train_test_split():\n",
    "X, y = make_moons(n_samples=10000, noise=0.4, random_state=42)\n",
    "X_train, X_test, y_train, y_test = train_test_split(X, y, test_size=0.2, random_state=42)\n",
    "#Use grid search with cross-validation to find good hyperparameter values for a DecisionTreeClassifier:\n",
    "param_grid = {'max_leaf_nodes': list(range(2, 100))}\n",
    "dtc = DecisionTreeClassifier(random_state=42)\n",
    "grid_search = GridSearchCV(dtc, param_grid, cv=3)\n",
    "grid_search.fit(X_train, y_train)\n",
    "#Use the best hyperparameter values to train a model on the entire training set:\n",
    "best_dtc = grid_search.best_estimator_\n",
    "best_dtc.fit(X_train, y_train)\n",
    "#Evaluate the model on the test set:\n",
    "accuracy = best_dtc.score(X_test, y_test)\n",
    "print(f\"Accuracy: {accuracy:.2f}\")\n",
    "#Create 1,000 subsets of the training set with ShuffleSplit():\n",
    "n_trees = 1000\n",
    "n_instances = 100\n",
    "subsets = []\n",
    "rs = ShuffleSplit(n_splits=n_trees, test_size=len(X_train) - n_instances, random_state=42)\n",
    "for subset_index in rs.split(X_train):\n",
    "    X_subset, y_subset = X_train[subset_index], y_train[subset_index]\n",
    "    subsets.append((X_subset, y_subset))\n",
    "#Train one Decision Tree on each subset and make predictions on the test set:\n",
    "\n",
    "forest = [DecisionTreeClassifier(max_leaf_nodes=best_dtc.max_leaf_nodes, random_state=42).fit(X_subset, y_subset) for X_subset, y_subset in subsets]\n",
    "y_preds = np.empty((n_trees, len(X_test)), dtype=np.uint8)\n",
    "for tree_index, tree in enumerate(forest):\n",
    "    y_preds[tree_index] = tree.predict(X_test)\n",
    "\n",
    "    \n",
    "#Use the best hyperparameter values to train a model on the entire training set:\n",
    "\n",
    "best_dtc = grid_search.best_estimator_\n",
    "best_dtc.fit(X_train, y_train)\n",
    "\n",
    "#Evaluate the model on the test set:\n",
    "accuracy = best_dtc.score(X_test, y_test)\n",
    "print(f\"Accuracy: {accuracy:.2f}\")\n",
    "#Create 1,000 subsets of the training set with ShuffleSplit():\n",
    "n_trees = 1000\n",
    "n_instances = 100\n",
    "subsets = []\n",
    "rs = ShuffleSplit(n_splits=n_trees, test_size=len(X_train) - n_instances, random_state=42)\n",
    "for subset_index in rs.split(X_train):\n",
    "    X_subset, y_subset = X_train[subset_index], y_train[subset_index]\n",
    "    subsets.append((X_subset, y_subset))\n",
    "#Train one Decision Tree on each subset and make predictions on the test set:\n",
    "forest = [DecisionTreeClassifier(max_leaf_nodes=best_dtc.max_leaf_nodes, random_state=42).fit(X_subset, y_subset) for X_subset, y_subset in subsets]\n",
    "y_preds = np.empty((n_trees, len(X_test)), dtype=np.uint8)\n",
    "for tree_index, tree in enumerate(forest):\n",
    "    y_preds[tree_index] = tree.predict(X_test)\n",
    "#Compute the majority-vote predictions:\n",
    "y_majority_votes, n_votes = mode(y_preds, axis=0)\n",
    "#Evaluate the majority-vote predictions on the test set:\n",
    "accuracy = np.sum(y_majority_votes.ravel() == y_test) / len(y_test)\n",
    "print(f\"Accuracy: {accuracy:.2f}\")\n",
    "\n",
    "\n",
    "\n"
   ]
  },
  {
   "cell_type": "code",
   "execution_count": null,
   "id": "4a7891e9",
   "metadata": {},
   "outputs": [],
   "source": []
  }
 ],
 "metadata": {
  "kernelspec": {
   "display_name": "Python 3 (ipykernel)",
   "language": "python",
   "name": "python3"
  },
  "language_info": {
   "codemirror_mode": {
    "name": "ipython",
    "version": 3
   },
   "file_extension": ".py",
   "mimetype": "text/x-python",
   "name": "python",
   "nbconvert_exporter": "python",
   "pygments_lexer": "ipython3",
   "version": "3.10.9"
  }
 },
 "nbformat": 4,
 "nbformat_minor": 5
}
