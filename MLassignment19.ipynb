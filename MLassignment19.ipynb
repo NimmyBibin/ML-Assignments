{
 "cells": [
  {
   "cell_type": "markdown",
   "id": "6c6040b9",
   "metadata": {},
   "source": [
    "1. A set of one-dimensional data points is given to you: 5, 10, 15, 20, 25, 30, 35. Assume that k = 2 and that the first set of random centroid is 15, 32, and that the second set is 12, 30.\n",
    "\n",
    "a)  Using the k-means method, create two clusters for each set of centroid described above.\n",
    "\n",
    "b) For each set of centroid values, calculate the SSE.\n"
   ]
  },
  {
   "cell_type": "markdown",
   "id": "ddd38be5",
   "metadata": {},
   "source": [
    "a) Using the k-means method, we can create two clusters for each set of centroid as follows:\n",
    "\n",
    "For the first set of centroids (15, 32):\n",
    "- Assign 5, 10, 15, 20 to cluster 1 (with centroid 15)\n",
    "- Assign 25, 30, 35 to cluster 2 (with centroid 32)\n",
    "\n",
    "New centroids: \n",
    "- Cluster 1 centroid = (5 + 10 + 15 + 20) / 4 = 12.5\n",
    "- Cluster 2 centroid = (25 + 30 + 35) / 3 = 30\n",
    "\n",
    "- Assign 5, 10, 15 to cluster 1 (with centroid 12)\n",
    "- Assign 20, 25, 30, 35 to cluster 2 (with centroid 30)\n",
    "\n",
    "New centroids: \n",
    "- Cluster 1 centroid = (5 + 10 + 15) / 3 = 10\n",
    "- Cluster 2 centroid = (20 + 25 + 30 + 35) / 4 = 27.5\n",
    "\n",
    "The final two clusters are: {5, 10, 15} and {20, 25, 30, 35}.\n",
    "\n",
    "For the second set of centroids (12, 30):\n",
    "- Assign 5, 10, 15, 20 to cluster 1 (with centroid 12)\n",
    "- Assign 25, 30, 35 to cluster 2 (with centroid 30)\n",
    "\n",
    "New centroids: \n",
    "- Cluster 1 centroid = (5 + 10 + 15 + 20) / 4 = 12.5\n",
    "- Cluster 2 centroid = (25 + 30 + 35) / 3 = 30\n",
    "\n",
    "- Assign 5, 10, 15, 20 to cluster 1 (with centroid 12)\n",
    "- Assign 25, 30, 35 to cluster 2 (with centroid 30)\n",
    "\n",
    "The final two clusters are: {5, 10, 15, 20} and {25, 30, 35}.\n",
    "\n",
    "b) To calculate the SSE for each set of centroids, we can use the following formula:\n",
    "\n",
    "SSE = ∑ (xi - ci)^2\n",
    "\n",
    "Where xi is a data point, ci is the centroid of the cluster to which xi belongs.\n",
    "\n",
    "For the first set of centroids (15, 32), the SSE is:\n",
    "\n",
    "SSE = (5-15)^2 + (10-15)^2 + (15-15)^2 + (20-15)^2 + (25-32)^2 + (30-32)^2 + (35-32)^2\n",
    "    = 200\n",
    "\n",
    "For the second set of centroids (12, 30), the SSE is:\n",
    "\n",
    "SSE = (5-12)^2 + (10-12)^2 + (15-12)^2 + (20-12)^2 + (25-30)^2 + (30-30)^2 + (35-30)^2\n",
    "    = 210\n",
    "\n",
    "Therefore, the SSE for the first set of centroids is lower than the SSE for the second set of centroids, indicating that the first set of centroids is a better clustering solution for this data."
   ]
  },
  {
   "cell_type": "markdown",
   "id": "28d4617e",
   "metadata": {},
   "source": [
    "\n",
    "2. Describe how the Market Basket Research makes use of association analysis concepts.\n"
   ]
  },
  {
   "cell_type": "markdown",
   "id": "8443440a",
   "metadata": {},
   "source": [
    "Market basket analysis is a technique used in retail and e-commerce industries to analyze customer purchasing behavior. It makes use of association analysis concepts to identify patterns and relationships between items purchased by customers. Association analysis is a data mining technique that involves identifying frequent patterns or associations in a dataset. In the context of market basket analysis, it involves identifying which items are frequently purchased together and which items are rarely purchased together.\n",
    "\n",
    "The process of market basket analysis typically involves the following steps:\n",
    "\n",
    "1. Data Collection: Transactional data is collected from point-of-sale systems or e-commerce platforms. The transactional data consists of a list of items purchased by each customer.\n",
    "\n",
    "2. Data Preparation: The transactional data is transformed into a binary format that represents whether each item was purchased or not. This is done by creating a binary matrix where each row represents a transaction and each column represents an item. A \"1\" in a cell indicates that the item was purchased in the transaction, while a \"0\" indicates that it was not purchased.\n",
    "\n",
    "3. Itemset Generation: Itemsets are combinations of items that frequently appear together in transactions. Itemsets can be of any size, ranging from single items to multiple items. For example, a frequent itemset might be {bread, milk, eggs}, indicating that these three items are often purchased together.\n",
    "\n",
    "4. Association Rule Mining: Association rules are patterns or relationships between items that are discovered in the dataset. Association rules have two parts: an antecedent and a consequent. The antecedent is a set of items that are frequently purchased together, and the consequent is an item that is often purchased with the antecedent. For example, a common association rule might be: {bread, milk} -> {eggs}, which means that customers who purchase bread and milk often also purchase eggs.\n",
    "\n",
    "5. Rule Evaluation: Association rules are evaluated based on several metrics, including support, confidence, and lift. Support measures the frequency of the itemset in the dataset, while confidence measures the proportion of transactions containing the antecedent that also contain the consequent. Lift measures the degree to which the presence of the antecedent affects the probability of the consequent being present.\n",
    "\n",
    "6. Rule Selection: Association rules that meet certain criteria, such as a minimum support and confidence threshold, are selected for further analysis. These rules can be used to make recommendations to customers, optimize store layouts, or design promotional campaigns.\n"
   ]
  },
  {
   "cell_type": "markdown",
   "id": "8a0aaa76",
   "metadata": {},
   "source": [
    "3. Give an example of the Apriori algorithm for learning association rules."
   ]
  },
  {
   "cell_type": "markdown",
   "id": "2b1549ca",
   "metadata": {},
   "source": [
    "The Apriori algorithm is a classic algorithm for mining association rules in transactional datasets. Here's an example of how the Apriori algorithm works:\n",
    "\n",
    "Suppose we have a dataset of customer transactions at a grocery store, and we want to identify the association rules between items that customers frequently purchase together. The dataset looks like this:\n",
    "\n",
    "Transaction ID | Items Purchased\n",
    "-------------- | --------------\n",
    "1 | Milk, Bread, Eggs\n",
    "2 | Milk, Bread, Cheese\n",
    "3 | Milk, Bread\n",
    "4 | Milk, Cheese\n",
    "5 | Bread, Eggs\n",
    "6 | Cheese, Eggs\n",
    "7 | Bread, Eggs\n",
    "\n",
    "The Apriori algorithm works by iteratively generating frequent itemsets of increasing size. An itemset is a collection of one or more items that occur together in the dataset. A frequent itemset is an itemset that occurs with a frequency greater than or equal to a specified minimum support threshold. The Apriori algorithm uses the following steps:\n",
    "\n",
    "1. Generate all frequent 1-itemsets. In our example, the 1-itemsets are {Milk}, {Bread}, {Eggs}, and {Cheese}. We count the number of transactions that contain each item and compare it to the minimum support threshold. Suppose the minimum support threshold is 3 (i.e., an itemset must occur in at least 3 transactions to be considered frequent). Then, the frequent 1-itemsets are {Milk}, {Bread}, and {Eggs}.\n",
    "\n",
    "2. Generate all frequent 2-itemsets. In our example, the 2-itemsets are {Milk, Bread}, {Milk, Eggs}, {Bread, Eggs}, and {Milk, Cheese}. We count the number of transactions that contain each 2-itemset and compare it to the minimum support threshold. Suppose the minimum support threshold is 2 (i.e., a 2-itemset must occur in at least 2 transactions to be considered frequent). Then, the frequent 2-itemsets are {Milk, Bread}, {Bread, Eggs}, and {Milk, Cheese}.\n",
    "\n",
    "3. Generate all frequent 3-itemsets. In our example, there is only one frequent 3-itemset: {Milk, Bread, Eggs}. We count the number of transactions that contain this 3-itemset and compare it to the minimum support threshold. Suppose the minimum support threshold is 2 (i.e., the 3-itemset must occur in at least 2 transactions to be considered frequent). Then, the frequent 3-itemset is {Milk, Bread, Eggs}.\n",
    "\n",
    "4. Generate association rules from the frequent itemsets. For each frequent itemset, we generate all possible subsets and calculate the support and confidence of each association rule. Suppose we are interested in association rules with a minimum confidence of 0.5 (i.e., the rule must be true in at least 50% of transactions containing the antecedent). Then, the association rules generated from the frequent 1-itemsets are:\n",
    "\n",
    "- {Milk} -> {Bread} (confidence = 0.67)\n",
    "- {Milk} -> {Eggs} (confidence = 0.67)\n",
    "- {Bread} -> {Milk} (confidence = 0.67)\n",
    "- {Bread} -> {Eggs} (confidence = 0.67)\n",
    "- {Eggs} -> {Bread} (confidence = 0.67)\n",
    "- {Eggs} -> {Milk} (confidence = 0.67)\n",
    "\n",
    "The association rules generated from the frequent 2-itemsets are:\n",
    "\n",
    "- {Milk, Bread} -> {Eggs} (confidence = 1.00)\n",
    "- {Bread"
   ]
  },
  {
   "cell_type": "markdown",
   "id": "32c0bdf6",
   "metadata": {},
   "source": [
    "\n",
    "4. In hierarchical clustering, how is the distance between clusters measured? Explain how this metric is used to decide when to end the iteration.\n"
   ]
  },
  {
   "cell_type": "markdown",
   "id": "64a74cf8",
   "metadata": {},
   "source": [
    "In hierarchical clustering, the distance between two clusters is measured based on the distance between their constituent data points. There are different metrics that can be used to calculate this distance, such as Euclidean distance, Manhattan distance, or cosine distance.\n",
    "\n",
    "The iteration process in hierarchical clustering involves repeatedly merging the two closest clusters until all the data points belong to a single cluster, forming a dendrogram. To decide when to end the iteration, there are two main approaches:\n",
    "\n",
    "1. Distance-based approach: Set a threshold distance value, and stop merging clusters when the distance between the closest clusters exceeds this threshold.\n",
    "\n",
    "2. Level-based approach: Determine the desired number of clusters in advance, and stop merging clusters when the dendrogram reaches the desired number of levels or clusters.\n",
    "\n",
    "The choice of approach depends on the specific problem and the characteristics of the data. The distance-based approach is more flexible but may require more manual tuning, while the level-based approach provides a more objective criterion but may be less adaptable to complex or noisy data."
   ]
  },
  {
   "cell_type": "markdown",
   "id": "0b3acabd",
   "metadata": {},
   "source": [
    "\n",
    "5. In the k-means algorithm, how do you recompute the cluster centroids?\n"
   ]
  },
  {
   "cell_type": "markdown",
   "id": "ac63273b",
   "metadata": {},
   "source": [
    "In the k-means algorithm, the cluster centroids are recomputed after each iteration to update the positions of the centroids based on the current assignments of data points to clusters. The centroid of a cluster is the mean of all the data points belonging to that cluster.\n",
    "\n",
    "The steps for recomputing the cluster centroids in the k-means algorithm are:\n",
    "\n",
    "For each cluster, calculate the mean of all the data points belonging to that cluster.\n",
    "Update the position of the centroid for that cluster to be the new mean value.\n",
    "Repeat for all clusters."
   ]
  },
  {
   "cell_type": "markdown",
   "id": "8e85e3cf",
   "metadata": {},
   "source": [
    "\n",
    "6. At the start of the clustering exercise, discuss one method for determining the required number of clusters.\n"
   ]
  },
  {
   "cell_type": "markdown",
   "id": "eb49947d",
   "metadata": {},
   "source": [
    "Determining the appropriate number of clusters for a clustering exercise is an important step in the process. One common method for determining the required number of clusters is the \"elbow method,\" which involves plotting the within-cluster sum of squares (WCSS) against the number of clusters and identifying the \"elbow point\" where the rate of decrease in WCSS slows down significantly.\n",
    "\n",
    "The steps for using the elbow method to determine the appropriate number of clusters are:\n",
    "\n",
    "1. Run the clustering algorithm for a range of values of k, the number of clusters.\n",
    "2. For each value of k, calculate the sum of squared distances between each point and its assigned centroid, and sum these values across all clusters to obtain the WCSS.\n",
    "3. Plot the values of k against the corresponding WCSS values.\n",
    "4. Look for the \"elbow point\" on the plot, which is the point where the rate of decrease in WCSS slows down significantly. This point indicates the number of clusters that captures the most meaningful variation in the data.\n"
   ]
  },
  {
   "cell_type": "markdown",
   "id": "3827dbc4",
   "metadata": {},
   "source": [
    "\n",
    "7. Discuss the k-means algorithm's advantages and disadvantages.\n"
   ]
  },
  {
   "cell_type": "markdown",
   "id": "a2a7544c",
   "metadata": {},
   "source": [
    "The k-means algorithm is one of the most widely used clustering algorithms due to its simplicity and efficiency. However, it also has some advantages and disadvantages, which are discussed below:\n",
    "\n",
    "Advantages:\n",
    "\n",
    "Simplicity: The k-means algorithm is straightforward and easy to implement, making it a popular choice for clustering applications.\n",
    "Scalability: The algorithm is computationally efficient and can handle large datasets with many variables and data points.\n",
    "Flexibility: The k-means algorithm can handle different types of data, including continuous and categorical variables.\n",
    "Interpretable results: The algorithm produces clear and interpretable results in the form of distinct clusters that can be analyzed and interpreted by domain experts.\n",
    "Disadvantages:\n",
    "\n",
    "Sensitivity to initialization: The k-means algorithm is sensitive to the initial positions of the centroids, which can result in different solutions for the same dataset.\n",
    "Limited to spherical clusters: The algorithm assumes that clusters are spherical and equally sized, which may not be appropriate for all datasets.\n",
    "Need to specify the number of clusters: The number of clusters to be generated must be specified in advance, which can be challenging if the optimal number of clusters is not known beforehand.\n",
    "Outliers can affect results: The algorithm is sensitive to outliers, which can affect the final clustering solution."
   ]
  },
  {
   "cell_type": "markdown",
   "id": "d3da1043",
   "metadata": {},
   "source": [
    "8. Draw a diagram to demonstrate the principle of clustering."
   ]
  },
  {
   "cell_type": "code",
   "execution_count": 2,
   "id": "a072bd68",
   "metadata": {},
   "outputs": [
    {
     "name": "stderr",
     "output_type": "stream",
     "text": [
      "C:\\Users\\lenovo\\anaconda3\\lib\\site-packages\\sklearn\\cluster\\_kmeans.py:870: FutureWarning: The default value of `n_init` will change from 10 to 'auto' in 1.4. Set the value of `n_init` explicitly to suppress the warning\n",
      "  warnings.warn(\n",
      "C:\\Users\\lenovo\\anaconda3\\lib\\site-packages\\sklearn\\cluster\\_kmeans.py:1382: UserWarning: KMeans is known to have a memory leak on Windows with MKL, when there are less chunks than available threads. You can avoid it by setting the environment variable OMP_NUM_THREADS=1.\n",
      "  warnings.warn(\n"
     ]
    },
    {
     "data": {
      "image/png": "[encoded data removed]",
      "text/plain": [
       "<Figure size 640x480 with 1 Axes>"
      ]
     },
     "metadata": {},
     "output_type": "display_data"
    }
   ],
   "source": [
    "import numpy as np\n",
    "from sklearn.cluster import KMeans\n",
    "import matplotlib.pyplot as plt\n",
    "\n",
    "# create a dataset with two features and six data points\n",
    "X = np.array([[2, 5], [3, 4], [3, 5], [4, 5], [4, 4], [5, 4]])\n",
    "\n",
    "# apply k-means clustering with k=2\n",
    "kmeans = KMeans(n_clusters=2)\n",
    "kmeans.fit(X)\n",
    "\n",
    "# plot the data points and clusters\n",
    "plt.scatter(X[:,0], X[:,1], c=kmeans.labels_)\n",
    "plt.scatter(kmeans.cluster_centers_[:,0], kmeans.cluster_centers_[:,1], marker='x', color='r')\n",
    "plt.xlabel('Feature 1')\n",
    "plt.ylabel('Feature 2')\n",
    "plt.title('K-Means Clustering')\n",
    "plt.show()\n"
   ]
  },
  {
   "cell_type": "markdown",
   "id": "38a8e233",
   "metadata": {},
   "source": [
    "9. During your study, you discovered seven findings, which are listed in the data points below. Using the K-means algorithm, you want to build three clusters from these observations. The clusters C1, C2, and C3 have the following findings after the first iteration:\n",
    "\n",
    "C1: (2,2), (4,4), (6,6); C2: (2,2), (4,4), (6,6); C3: (2,2), (4,4),\n",
    "\n",
    "C2: (0,4), (4,0), (0,4), (0,4), (0,4), (0,4), (0,4), (0,4), (0,\n",
    "\n",
    "C3: (5,5) and (9,9)\n",
    "\n",
    "What would the cluster centroids be if you were to run a second iteration? What would this clustering's SSE be?\n"
   ]
  },
  {
   "cell_type": "markdown",
   "id": "8c876f05",
   "metadata": {},
   "source": [
    "It is not possible to determine the cluster centroids and SSE for the second iteration without knowing the distance metric and the convergence criteria used in the K-means algorithm. The cluster centroids and SSE will depend on the specific implementation of the algorithm."
   ]
  },
  {
   "cell_type": "code",
   "execution_count": null,
   "id": "b386ca6c",
   "metadata": {},
   "outputs": [],
   "source": []
  }
 ],
 "metadata": {
  "kernelspec": {
   "display_name": "Python 3 (ipykernel)",
   "language": "python",
   "name": "python3"
  },
  "language_info": {
   "codemirror_mode": {
    "name": "ipython",
    "version": 3
   },
   "file_extension": ".py",
   "mimetype": "text/x-python",
   "name": "python",
   "nbconvert_exporter": "python",
   "pygments_lexer": "ipython3",
   "version": "3.10.9"
  }
 },
 "nbformat": 4,
 "nbformat_minor": 5
}
